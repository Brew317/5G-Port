{
 "cells": [
  {
   "cell_type": "markdown",
   "metadata": {},
   "source": [
    "\"\"\"\n",
    "# GEN_SYMBOLS Generates symbols for sync words.  \n",
    "    X = GEN_SYMBOLS(N) generates an N length column vector of 32 bit  \n",
    "    sync words.  \n",
    " \n",
    "    1 <= N <= 1024  number of symbols  \n",
    "    SD is the 32-bit seed. It may not be zero.  \n",
    " \n",
    "    Note the first symbol generated is the seed. It is discarded. This is  \n",
    "    useful for continuing the sequence beyond 256 rows. Use the last  \n",
    "    generated symbol to continue the sequence.  \n",
    " \n",
    "    The generator polynomial defaults to  \n",
    "        [32 26 23 22 16 12 11 10 8 7 5 4 2 1 0]  \n",
    " \n",
    "      Uses comm.PNSequence from the Communications System Toolbox, vrsion 5.6.  \n",
    " \n",
    "    Copyright 2015 MIT Lincoln Laboratory  \n",
    "    Author: Michael J. Pitaro  \n",
    " \n",
    "    Ported from Matlab to Julia  \n",
    "    Author: Gary A. Garcia  \n",
    "\"\"\""
   ]
  },
  {
   "cell_type": "code",
   "execution_count": 10,
   "metadata": {},
   "outputs": [
    {
     "data": {
      "text/plain": [
       "1"
      ]
     },
     "execution_count": 10,
     "metadata": {},
     "output_type": "execute_result"
    }
   ],
   "source": [
    "# normal 0x04C11DB7\n",
    "PN=[32 26 23 22 16 12 11 10 8 7 5 4 2 1 0]\n",
    "S = 32\n",
    "P = 32\n",
    "SD = 1"
   ]
  },
  {
   "cell_type": "markdown",
   "metadata": {},
   "source": [
    "# Julia does not have Switch or Case statements  \n",
    "> "
   ]
  },
  {
   "cell_type": "code",
   "execution_count": 8,
   "metadata": {},
   "outputs": [
    {
     "data": {
      "text/plain": [
       "gen_symbols (generic function with 3 methods)"
      ]
     },
     "execution_count": 8,
     "metadata": {},
     "output_type": "execute_result"
    }
   ],
   "source": [
    "function gen_symbols end\n",
    "\n",
    "function gen_symbols(N)\n",
    "    gen_symbols(UInt32(N), UInt32(SD), UInt32(S), PN, UInt32(P))\n",
    "end\n",
    "\n",
    "function gen_symbols(N, SD)\n",
    "    gen_symbols(UInt32(N), UInt32(SD), UInt32(S), PN, UInt32(P))\n",
    "end\n",
    "\n",
    "function gen_symbols(N, SD, S)\n",
    "    gen_symbols(UInt32(N), UInt32(SD), UInt32(S), PN, UInt32(P))\n",
    "end"
   ]
  },
  {
   "cell_type": "code",
   "execution_count": 11,
   "metadata": {},
   "outputs": [
    {
     "data": {
      "text/html": [
       "# 3 methods for generic function <b>gen_symbols</b>:<ul><li> gen_symbols(N) in Main at In[8]:3</li> <li> gen_symbols(N, SD) in Main at In[8]:7</li> <li> gen_symbols(N, SD, S) in Main at In[8]:11</li> </ul>"
      ],
      "text/plain": [
       "# 3 methods for generic function \"gen_symbols\":\n",
       "[1] gen_symbols(N) in Main at In[8]:3\n",
       "[2] gen_symbols(N, SD) in Main at In[8]:7\n",
       "[3] gen_symbols(N, SD, S) in Main at In[8]:11"
      ]
     },
     "execution_count": 11,
     "metadata": {},
     "output_type": "execute_result"
    }
   ],
   "source": [
    "methods(gen_symbols)"
   ]
  },
  {
   "cell_type": "code",
   "execution_count": 12,
   "metadata": {},
   "outputs": [
    {
     "data": {
      "text/plain": [
       "gen_symbols"
      ]
     },
     "execution_count": 12,
     "metadata": {},
     "output_type": "execute_result"
    }
   ],
   "source": [
    "\"\"\"\n",
    "### GEN_SYMBOLS Generates symbols for sync words.  \n",
    "    X = GEN_SYMBOLS(N) generates an N length column vector of 32 bit  \n",
    "    sync words.  \n",
    " \n",
    "    1 <= N <= 1024  number of symbols  \n",
    "    SD is the 32-bit seed. It may not be zero.  \n",
    " \n",
    "    Note the first symbol generated is the seed. It is discarded. This is  \n",
    "    useful for continuing the sequence beyond 256 rows. Use the last  \n",
    "    generated symbol to continue the sequence.  \n",
    " \n",
    "    The generator polynomial defaults to  \n",
    "        [32 26 23 22 16 12 11 10 8 7 5 4 2 1 0]  \n",
    "\"\"\"\n",
    "function gen_symbols(N::UInt32, SD::UInt32, S::UInt32, PN, P::UInt32)\n",
    "    return(Int64(N), Int64(SD), Int64(S), PN, Int64(P))\n",
    "end"
   ]
  },
  {
   "cell_type": "code",
   "execution_count": 13,
   "metadata": {},
   "outputs": [
    {
     "data": {
      "text/html": [
       "# 4 methods for generic function <b>gen_symbols</b>:<ul><li> gen_symbols(N::<b>UInt32</b>, SD::<b>UInt32</b>, S::<b>UInt32</b>, PN, P::<b>UInt32</b>) in Main at In[12]:16</li> <li> gen_symbols(N) in Main at In[8]:3</li> <li> gen_symbols(N, SD) in Main at In[8]:7</li> <li> gen_symbols(N, SD, S) in Main at In[8]:11</li> </ul>"
      ],
      "text/plain": [
       "# 4 methods for generic function \"gen_symbols\":\n",
       "[1] gen_symbols(N::UInt32, SD::UInt32, S::UInt32, PN, P::UInt32) in Main at In[12]:16\n",
       "[2] gen_symbols(N) in Main at In[8]:3\n",
       "[3] gen_symbols(N, SD) in Main at In[8]:7\n",
       "[4] gen_symbols(N, SD, S) in Main at In[8]:11"
      ]
     },
     "execution_count": 13,
     "metadata": {},
     "output_type": "execute_result"
    }
   ],
   "source": [
    "methods(gen_symbols)"
   ]
  },
  {
   "cell_type": "code",
   "execution_count": 4,
   "metadata": {},
   "outputs": [
    {
     "data": {
      "text/plain": [
       "0x00000020"
      ]
     },
     "execution_count": 4,
     "metadata": {},
     "output_type": "execute_result"
    }
   ],
   "source": [
    "0x00000020"
   ]
  },
  {
   "cell_type": "code",
   "execution_count": 5,
   "metadata": {},
   "outputs": [
    {
     "data": {
      "text/plain": [
       "UInt32"
      ]
     },
     "execution_count": 5,
     "metadata": {},
     "output_type": "execute_result"
    }
   ],
   "source": [
    "typeof(ans)"
   ]
  },
  {
   "cell_type": "code",
   "execution_count": 7,
   "metadata": {},
   "outputs": [
    {
     "data": {
      "text/plain": [
       "32"
      ]
     },
     "execution_count": 7,
     "metadata": {},
     "output_type": "execute_result"
    }
   ],
   "source": [
    "Int64(0x00000020)"
   ]
  },
  {
   "cell_type": "code",
   "execution_count": null,
   "metadata": {},
   "outputs": [],
   "source": []
  }
 ],
 "metadata": {
  "kernelspec": {
   "display_name": "Julia 1.5.0",
   "language": "julia",
   "name": "julia-1.5"
  },
  "language_info": {
   "file_extension": ".jl",
   "mimetype": "application/julia",
   "name": "julia",
   "version": "1.5.0"
  }
 },
 "nbformat": 4,
 "nbformat_minor": 4
}
